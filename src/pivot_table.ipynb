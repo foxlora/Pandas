{
 "cells": [
  {
   "cell_type": "code",
   "execution_count": 9,
   "metadata": {
    "collapsed": true,
    "pycharm": {
     "is_executing": false
    }
   },
   "outputs": [],
   "source": [
    "import pandas as pd\n",
    "import numpy as np\n",
    "df = pd.read_csv('../data/James_Harden.csv',encoding='utf8')\n",
    "\n",
    "table=pd.pivot_table(df,index=[u'对手',u'胜负'],values=[u'得分',u'助攻',u'篮板'],aggfunc={'得分':np.sum,\"篮板\":len},fill_value=0)"
   ]
  },
  {
   "cell_type": "code",
   "execution_count": 10,
   "metadata": {
    "pycharm": {
     "is_executing": false,
     "name": "#%%\n"
    }
   },
   "outputs": [
    {
     "data": {
      "text/plain": "        得分  篮板\n对手  胜负        \n76人 胜   27   1\n    负   29   1\n勇士  胜   27   1\n国王  胜   27   1\n太阳  胜   48   1\n小牛  胜   29   1\n尼克斯 胜   68   2\n开拓者 胜   48   1\n掘金  胜   21   1\n步行者 胜   55   2\n湖人  胜   36   1\n灰熊  胜   67   2\n    负   42   2\n爵士  胜   85   2\n猛龙  负   38   1\n篮网  胜   37   1\n老鹰  胜   29   1\n骑士  胜   35   1\n鹈鹕  胜   26   1\n黄蜂  胜   27   1",
      "text/html": "<div>\n<style scoped>\n    .dataframe tbody tr th:only-of-type {\n        vertical-align: middle;\n    }\n\n    .dataframe tbody tr th {\n        vertical-align: top;\n    }\n\n    .dataframe thead th {\n        text-align: right;\n    }\n</style>\n<table border=\"1\" class=\"dataframe\">\n  <thead>\n    <tr style=\"text-align: right;\">\n      <th></th>\n      <th></th>\n      <th>得分</th>\n      <th>篮板</th>\n    </tr>\n    <tr>\n      <th>对手</th>\n      <th>胜负</th>\n      <th></th>\n      <th></th>\n    </tr>\n  </thead>\n  <tbody>\n    <tr>\n      <td rowspan=\"2\" valign=\"top\">76人</td>\n      <td>胜</td>\n      <td>27</td>\n      <td>1</td>\n    </tr>\n    <tr>\n      <td>负</td>\n      <td>29</td>\n      <td>1</td>\n    </tr>\n    <tr>\n      <td>勇士</td>\n      <td>胜</td>\n      <td>27</td>\n      <td>1</td>\n    </tr>\n    <tr>\n      <td>国王</td>\n      <td>胜</td>\n      <td>27</td>\n      <td>1</td>\n    </tr>\n    <tr>\n      <td>太阳</td>\n      <td>胜</td>\n      <td>48</td>\n      <td>1</td>\n    </tr>\n    <tr>\n      <td>小牛</td>\n      <td>胜</td>\n      <td>29</td>\n      <td>1</td>\n    </tr>\n    <tr>\n      <td>尼克斯</td>\n      <td>胜</td>\n      <td>68</td>\n      <td>2</td>\n    </tr>\n    <tr>\n      <td>开拓者</td>\n      <td>胜</td>\n      <td>48</td>\n      <td>1</td>\n    </tr>\n    <tr>\n      <td>掘金</td>\n      <td>胜</td>\n      <td>21</td>\n      <td>1</td>\n    </tr>\n    <tr>\n      <td>步行者</td>\n      <td>胜</td>\n      <td>55</td>\n      <td>2</td>\n    </tr>\n    <tr>\n      <td>湖人</td>\n      <td>胜</td>\n      <td>36</td>\n      <td>1</td>\n    </tr>\n    <tr>\n      <td rowspan=\"2\" valign=\"top\">灰熊</td>\n      <td>胜</td>\n      <td>67</td>\n      <td>2</td>\n    </tr>\n    <tr>\n      <td>负</td>\n      <td>42</td>\n      <td>2</td>\n    </tr>\n    <tr>\n      <td>爵士</td>\n      <td>胜</td>\n      <td>85</td>\n      <td>2</td>\n    </tr>\n    <tr>\n      <td>猛龙</td>\n      <td>负</td>\n      <td>38</td>\n      <td>1</td>\n    </tr>\n    <tr>\n      <td>篮网</td>\n      <td>胜</td>\n      <td>37</td>\n      <td>1</td>\n    </tr>\n    <tr>\n      <td>老鹰</td>\n      <td>胜</td>\n      <td>29</td>\n      <td>1</td>\n    </tr>\n    <tr>\n      <td>骑士</td>\n      <td>胜</td>\n      <td>35</td>\n      <td>1</td>\n    </tr>\n    <tr>\n      <td>鹈鹕</td>\n      <td>胜</td>\n      <td>26</td>\n      <td>1</td>\n    </tr>\n    <tr>\n      <td>黄蜂</td>\n      <td>胜</td>\n      <td>27</td>\n      <td>1</td>\n    </tr>\n  </tbody>\n</table>\n</div>"
     },
     "metadata": {},
     "output_type": "execute_result",
     "execution_count": 10
    }
   ],
   "source": [
    "table"
   ]
  },
  {
   "cell_type": "code",
   "execution_count": 7,
   "outputs": [
    {
     "data": {
      "text/plain": "      mean           \n        助攻    得分   篮板\n对手 胜负                \n灰熊 胜   7.5  33.5  4.5\n   负   8.0  21.0  4.5",
      "text/html": "<div>\n<style scoped>\n    .dataframe tbody tr th:only-of-type {\n        vertical-align: middle;\n    }\n\n    .dataframe tbody tr th {\n        vertical-align: top;\n    }\n\n    .dataframe thead tr th {\n        text-align: left;\n    }\n\n    .dataframe thead tr:last-of-type th {\n        text-align: right;\n    }\n</style>\n<table border=\"1\" class=\"dataframe\">\n  <thead>\n    <tr>\n      <th></th>\n      <th></th>\n      <th colspan=\"3\" halign=\"left\">mean</th>\n    </tr>\n    <tr>\n      <th></th>\n      <th></th>\n      <th>助攻</th>\n      <th>得分</th>\n      <th>篮板</th>\n    </tr>\n    <tr>\n      <th>对手</th>\n      <th>胜负</th>\n      <th></th>\n      <th></th>\n      <th></th>\n    </tr>\n  </thead>\n  <tbody>\n    <tr>\n      <td rowspan=\"2\" valign=\"top\">灰熊</td>\n      <td>胜</td>\n      <td>7.5</td>\n      <td>33.5</td>\n      <td>4.5</td>\n    </tr>\n    <tr>\n      <td>负</td>\n      <td>8.0</td>\n      <td>21.0</td>\n      <td>4.5</td>\n    </tr>\n  </tbody>\n</table>\n</div>"
     },
     "metadata": {},
     "output_type": "execute_result",
     "execution_count": 7
    }
   ],
   "source": [
    "table.query('对手 == [\"灰熊\"]')\n"
   ],
   "metadata": {
    "collapsed": false,
    "pycharm": {
     "name": "#%%\n",
     "is_executing": false
    }
   }
  }
 ],
 "metadata": {
  "kernelspec": {
   "display_name": "Python 3",
   "language": "python",
   "name": "python3"
  },
  "language_info": {
   "codemirror_mode": {
    "name": "ipython",
    "version": 3
   },
   "file_extension": ".py",
   "mimetype": "text/x-python",
   "name": "python",
   "nbconvert_exporter": "python",
   "pygments_lexer": "ipython3",
   "version": "3.7.4"
  },
  "pycharm": {
   "stem_cell": {
    "cell_type": "raw",
    "source": [],
    "metadata": {
     "collapsed": false
    }
   }
  }
 },
 "nbformat": 4,
 "nbformat_minor": 1
}